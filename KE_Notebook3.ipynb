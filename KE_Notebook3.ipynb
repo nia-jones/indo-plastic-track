{
 "cells": [
  {
   "cell_type": "markdown",
   "id": "4dd9f7f6",
   "metadata": {},
   "source": [
    "## Plotting an animation of your results "
   ]
  },
  {
   "cell_type": "code",
   "execution_count": null,
   "id": "1a4dc0d6",
   "metadata": {},
   "outputs": [],
   "source": [
    "import xarray as xr\n",
    "from datetime import timedelta as delta\n",
    "import numpy as np \n",
    "from matplotlib.animation import FuncAnimation\n",
    "from IPython.display import HTML\n",
    "import matplotlib.pyplot as plt\n",
    "from cartopy.io.shapereader import Reader\n",
    "from cartopy.feature import ShapelyFeature\n",
    "import cartopy.crs as ccrs\n",
    "import cartopy.io.shapereader as shpreader\n",
    "import matplotlib.animation as animation"
   ]
  },
  {
   "cell_type": "code",
   "execution_count": null,
   "id": "639ba570",
   "metadata": {},
   "outputs": [],
   "source": [
    "# enter your result file location and name \n",
    "data_xarray = xr.open_dataset(r'filename.nc') \n",
    "\n",
    "# this should be the same as your model dt\n",
    "outputdt = delta(hours=6) \n",
    "\n",
    "# creating timerange variable (in nanoseconds)\n",
    "timerange = np.arange(np.nanmin(data_xarray['time'].values),\n",
    "                      np.nanmax(data_xarray['time'].values)+np.timedelta64(outputdt), \n",
    "                      outputdt)  \n",
    "\n",
    "fname = r'ne_10m_admin_0_countries/ne_10m_admin_0_countries.shp'\n",
    "\n",
    "# set up figure options \n",
    "fig = plt.figure(figsize=(5,5),constrained_layout=True)\n",
    "proj = ccrs.PlateCarree()\n",
    "ax = plt.axes(projection=proj)\n",
    "\n",
    "# set up grid and axis tick labels\n",
    "gridlines = ax.gridlines(draw_labels=True,alpha=0.2,edgecolor='lightgray')\n",
    "gridlines.xlabels_top = None\n",
    "gridlines.ylabels_right = None\n",
    "\n",
    "plt.xlim([95, 140])\n",
    "plt.ylim([-12, 10])\n",
    "\n",
    "# plot particles\n",
    "time_id = np.where(data_xarray['time'] == timerange[0]) # Indices of the data where time = 0\n",
    "scatter = ax.scatter(data_xarray['lon'].values[time_id], data_xarray['lat'].values[time_id],s=1,facecolor='red')\n",
    "\n",
    "# plot coastlines\n",
    "adm1_shapes = list(shpreader.Reader(fname).geometries())\n",
    "ax.add_geometries(adm1_shapes, ccrs.PlateCarree(), edgecolor='darkgrey', facecolor='lightgray')\n",
    "\n",
    "# set title \n",
    "t = str(timerange[0])\n",
    "title = ax.set_title('Particles at '+t)\n",
    "\n",
    "# outline which sections of the plot to animate\n",
    "def animate(i):\n",
    "    t = str(timerange[i])\n",
    "    title.set_text('Particles at '+t)\n",
    "    \n",
    "    time_id = np.where(data_xarray['time'] == timerange[i])\n",
    "    scatter.set_offsets(np.c_[data_xarray['lon'].values[time_id], data_xarray['lat'].values[time_id]])\n",
    "    \n",
    "# write animation\n",
    "anim = FuncAnimation(fig, animate, frames = len(timerange), interval=100)\n",
    "\n",
    "# find the ffmpeg.exe file within your py3_parcels environment in your file finder and copy the address to here\n",
    "plt.rcParams['animation.ffmpeg_path'] =r'/Users/niajones/opt/anaconda3/envs/py3_parcels/bin/ffmpeg'\n",
    "writervideo = animation.FFMpegWriter() \n",
    "\n",
    "#identify the filename you want to use and where you want to save it \n",
    "anim.save(r'6monthtest.mp4', writer=writervideo,dpi=300)\n",
    "\n",
    "# write the video in html so it appears in this notebook as well \n",
    "HTML(anim.to_jshtml())\n"
   ]
  }
 ],
 "metadata": {
  "kernelspec": {
   "display_name": "Python 3",
   "language": "python",
   "name": "python3"
  },
  "language_info": {
   "codemirror_mode": {
    "name": "ipython",
    "version": 3
   },
   "file_extension": ".py",
   "mimetype": "text/x-python",
   "name": "python",
   "nbconvert_exporter": "python",
   "pygments_lexer": "ipython3",
   "version": "3.7.10"
  }
 },
 "nbformat": 4,
 "nbformat_minor": 5
}
